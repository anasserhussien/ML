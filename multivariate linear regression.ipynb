{
 "cells": [
  {
   "cell_type": "markdown",
   "metadata": {},
   "source": [
    "## This notebook is about predicting students' performance in their final exam based on first period exam G1 and second period exam G2"
   ]
  },
  {
   "cell_type": "code",
   "execution_count": 1,
   "metadata": {},
   "outputs": [],
   "source": [
    "import sklearn\n",
    "import numpy as np\n",
    "import matplotlib.pyplot as plt\n",
    "import pandas as pd"
   ]
  },
  {
   "cell_type": "code",
   "execution_count": 2,
   "metadata": {},
   "outputs": [],
   "source": [
    "df = pd.read_csv('Datasets/Regression/student-por.csv', usecols = [30,31,32])"
   ]
  },
  {
   "cell_type": "code",
   "execution_count": 5,
   "metadata": {},
   "outputs": [
    {
     "data": {
      "text/html": [
       "<div>\n",
       "<style scoped>\n",
       "    .dataframe tbody tr th:only-of-type {\n",
       "        vertical-align: middle;\n",
       "    }\n",
       "\n",
       "    .dataframe tbody tr th {\n",
       "        vertical-align: top;\n",
       "    }\n",
       "\n",
       "    .dataframe thead th {\n",
       "        text-align: right;\n",
       "    }\n",
       "</style>\n",
       "<table border=\"1\" class=\"dataframe\">\n",
       "  <thead>\n",
       "    <tr style=\"text-align: right;\">\n",
       "      <th></th>\n",
       "      <th>G1</th>\n",
       "      <th>G2</th>\n",
       "      <th>G3</th>\n",
       "    </tr>\n",
       "  </thead>\n",
       "  <tbody>\n",
       "    <tr>\n",
       "      <th>0</th>\n",
       "      <td>0</td>\n",
       "      <td>11</td>\n",
       "      <td>11</td>\n",
       "    </tr>\n",
       "    <tr>\n",
       "      <th>1</th>\n",
       "      <td>9</td>\n",
       "      <td>11</td>\n",
       "      <td>11</td>\n",
       "    </tr>\n",
       "    <tr>\n",
       "      <th>2</th>\n",
       "      <td>12</td>\n",
       "      <td>13</td>\n",
       "      <td>12</td>\n",
       "    </tr>\n",
       "    <tr>\n",
       "      <th>3</th>\n",
       "      <td>14</td>\n",
       "      <td>14</td>\n",
       "      <td>14</td>\n",
       "    </tr>\n",
       "    <tr>\n",
       "      <th>4</th>\n",
       "      <td>11</td>\n",
       "      <td>13</td>\n",
       "      <td>13</td>\n",
       "    </tr>\n",
       "  </tbody>\n",
       "</table>\n",
       "</div>"
      ],
      "text/plain": [
       "   G1  G2  G3\n",
       "0   0  11  11\n",
       "1   9  11  11\n",
       "2  12  13  12\n",
       "3  14  14  14\n",
       "4  11  13  13"
      ]
     },
     "execution_count": 5,
     "metadata": {},
     "output_type": "execute_result"
    }
   ],
   "source": [
    "df.head()"
   ]
  },
  {
   "cell_type": "code",
   "execution_count": 27,
   "metadata": {},
   "outputs": [],
   "source": [
    "def getHypothesis(X, theta):\n",
    "    return np.dot(X, theta)"
   ]
  },
  {
   "cell_type": "code",
   "execution_count": 7,
   "metadata": {},
   "outputs": [],
   "source": [
    "def getCost(X, Y, theta):\n",
    "    H = getHypothesis(X, theta)\n",
    "    cost = sum(pow(H-Y,2))/(2*len(Y))\n",
    "    return cost"
   ]
  },
  {
   "cell_type": "code",
   "execution_count": 12,
   "metadata": {},
   "outputs": [],
   "source": [
    "X = df[['G1','G2']]\n",
    "Y = df[['G3']]"
   ]
  },
  {
   "cell_type": "code",
   "execution_count": 13,
   "metadata": {
    "scrolled": true
   },
   "outputs": [
    {
     "data": {
      "text/html": [
       "<div>\n",
       "<style scoped>\n",
       "    .dataframe tbody tr th:only-of-type {\n",
       "        vertical-align: middle;\n",
       "    }\n",
       "\n",
       "    .dataframe tbody tr th {\n",
       "        vertical-align: top;\n",
       "    }\n",
       "\n",
       "    .dataframe thead th {\n",
       "        text-align: right;\n",
       "    }\n",
       "</style>\n",
       "<table border=\"1\" class=\"dataframe\">\n",
       "  <thead>\n",
       "    <tr style=\"text-align: right;\">\n",
       "      <th></th>\n",
       "      <th>G1</th>\n",
       "      <th>G2</th>\n",
       "    </tr>\n",
       "  </thead>\n",
       "  <tbody>\n",
       "    <tr>\n",
       "      <th>0</th>\n",
       "      <td>0</td>\n",
       "      <td>11</td>\n",
       "    </tr>\n",
       "    <tr>\n",
       "      <th>1</th>\n",
       "      <td>9</td>\n",
       "      <td>11</td>\n",
       "    </tr>\n",
       "    <tr>\n",
       "      <th>2</th>\n",
       "      <td>12</td>\n",
       "      <td>13</td>\n",
       "    </tr>\n",
       "    <tr>\n",
       "      <th>3</th>\n",
       "      <td>14</td>\n",
       "      <td>14</td>\n",
       "    </tr>\n",
       "    <tr>\n",
       "      <th>4</th>\n",
       "      <td>11</td>\n",
       "      <td>13</td>\n",
       "    </tr>\n",
       "  </tbody>\n",
       "</table>\n",
       "</div>"
      ],
      "text/plain": [
       "   G1  G2\n",
       "0   0  11\n",
       "1   9  11\n",
       "2  12  13\n",
       "3  14  14\n",
       "4  11  13"
      ]
     },
     "execution_count": 13,
     "metadata": {},
     "output_type": "execute_result"
    }
   ],
   "source": [
    "X.head()"
   ]
  },
  {
   "cell_type": "markdown",
   "metadata": {},
   "source": [
    "### Inserting first column in the training set as ones for ease in the upcoming operations like getting hypothesis and working with gradient descent"
   ]
  },
  {
   "cell_type": "code",
   "execution_count": 14,
   "metadata": {},
   "outputs": [],
   "source": [
    "X.insert(0,'ones',1)"
   ]
  },
  {
   "cell_type": "code",
   "execution_count": 15,
   "metadata": {},
   "outputs": [
    {
     "data": {
      "text/html": [
       "<div>\n",
       "<style scoped>\n",
       "    .dataframe tbody tr th:only-of-type {\n",
       "        vertical-align: middle;\n",
       "    }\n",
       "\n",
       "    .dataframe tbody tr th {\n",
       "        vertical-align: top;\n",
       "    }\n",
       "\n",
       "    .dataframe thead th {\n",
       "        text-align: right;\n",
       "    }\n",
       "</style>\n",
       "<table border=\"1\" class=\"dataframe\">\n",
       "  <thead>\n",
       "    <tr style=\"text-align: right;\">\n",
       "      <th></th>\n",
       "      <th>ones</th>\n",
       "      <th>G1</th>\n",
       "      <th>G2</th>\n",
       "    </tr>\n",
       "  </thead>\n",
       "  <tbody>\n",
       "    <tr>\n",
       "      <th>0</th>\n",
       "      <td>1</td>\n",
       "      <td>0</td>\n",
       "      <td>11</td>\n",
       "    </tr>\n",
       "    <tr>\n",
       "      <th>1</th>\n",
       "      <td>1</td>\n",
       "      <td>9</td>\n",
       "      <td>11</td>\n",
       "    </tr>\n",
       "    <tr>\n",
       "      <th>2</th>\n",
       "      <td>1</td>\n",
       "      <td>12</td>\n",
       "      <td>13</td>\n",
       "    </tr>\n",
       "    <tr>\n",
       "      <th>3</th>\n",
       "      <td>1</td>\n",
       "      <td>14</td>\n",
       "      <td>14</td>\n",
       "    </tr>\n",
       "    <tr>\n",
       "      <th>4</th>\n",
       "      <td>1</td>\n",
       "      <td>11</td>\n",
       "      <td>13</td>\n",
       "    </tr>\n",
       "  </tbody>\n",
       "</table>\n",
       "</div>"
      ],
      "text/plain": [
       "   ones  G1  G2\n",
       "0     1   0  11\n",
       "1     1   9  11\n",
       "2     1  12  13\n",
       "3     1  14  14\n",
       "4     1  11  13"
      ]
     },
     "execution_count": 15,
     "metadata": {},
     "output_type": "execute_result"
    }
   ],
   "source": [
    "X.head()"
   ]
  },
  {
   "cell_type": "markdown",
   "metadata": {},
   "source": [
    "### converting training data from data frame into numpy arrays"
   ]
  },
  {
   "cell_type": "code",
   "execution_count": 16,
   "metadata": {},
   "outputs": [],
   "source": [
    "train_matrix = X.as_matrix()"
   ]
  },
  {
   "cell_type": "code",
   "execution_count": 17,
   "metadata": {},
   "outputs": [
    {
     "data": {
      "text/plain": [
       "numpy.ndarray"
      ]
     },
     "execution_count": 17,
     "metadata": {},
     "output_type": "execute_result"
    }
   ],
   "source": [
    "type(train_matrix)"
   ]
  },
  {
   "cell_type": "code",
   "execution_count": 18,
   "metadata": {},
   "outputs": [
    {
     "data": {
      "text/plain": [
       "array([[ 1,  0, 11],\n",
       "       [ 1,  9, 11],\n",
       "       [ 1, 12, 13],\n",
       "       ..., \n",
       "       [ 1, 11, 12],\n",
       "       [ 1, 10, 10],\n",
       "       [ 1, 10, 11]], dtype=int64)"
      ]
     },
     "execution_count": 18,
     "metadata": {},
     "output_type": "execute_result"
    }
   ],
   "source": [
    "train_matrix"
   ]
  },
  {
   "cell_type": "code",
   "execution_count": 20,
   "metadata": {},
   "outputs": [
    {
     "data": {
      "text/plain": [
       "numpy.ndarray"
      ]
     },
     "execution_count": 20,
     "metadata": {},
     "output_type": "execute_result"
    }
   ],
   "source": [
    "ground_truth_matrix = Y.values\n",
    "type(ground_truth_matrix)"
   ]
  },
  {
   "cell_type": "markdown",
   "metadata": {},
   "source": [
    "#### Testing the hypothesis function"
   ]
  },
  {
   "cell_type": "code",
   "execution_count": 28,
   "metadata": {
    "collapsed": true
   },
   "outputs": [
    {
     "data": {
      "text/plain": [
       "array([12, 21, 26, 29, 25, 25, 26, 24, 32, 25, 29, 23, 26, 25, 29, 35, 27,\n",
       "       28, 17, 25, 26, 24, 26, 21, 22, 22, 24, 23, 25, 24, 22, 31, 28, 26,\n",
       "       25, 23, 29, 27, 24, 28, 23, 22, 30, 20, 22, 22, 26, 35, 24, 26, 28,\n",
       "       31, 20, 26, 26, 26, 30, 31, 28, 32, 34, 21, 27, 28, 26, 32, 24, 20,\n",
       "       22, 31, 25, 21, 25, 27, 23, 23, 24, 27, 19, 24, 23, 20, 24, 26, 26,\n",
       "       24, 25, 31, 23, 19, 21, 28, 26, 28, 24, 27, 21, 26, 26, 26, 19, 33,\n",
       "       26, 22, 33, 21, 21, 28, 23, 31, 28, 23, 19, 36, 20, 31, 32, 29, 24,\n",
       "       28, 29, 28, 27, 26, 24, 19, 22, 20, 29, 26, 22, 20, 22, 24, 26, 29,\n",
       "       19, 25, 24, 28, 20, 28, 23, 24, 24, 19, 21, 28, 18, 21, 18, 29, 24,\n",
       "       27, 22, 17, 25, 22, 23, 26, 23, 19, 24, 21, 20, 27, 21, 27, 16, 18,\n",
       "       22, 23, 21, 18, 17, 14, 18, 18, 17, 16, 20, 35, 25, 33, 19, 34, 21,\n",
       "       28, 29, 22, 26, 21, 20, 23, 22, 24, 36, 28, 30, 25, 20, 28, 26, 19,\n",
       "       25, 24, 22, 22, 26, 30, 27, 22, 30, 22, 29, 24, 30, 27, 27, 18, 23,\n",
       "       30, 26, 24, 25, 26, 27, 24, 24, 31, 21, 21, 26, 25, 22, 25, 27, 20,\n",
       "       32, 17, 36, 22, 20, 31, 27, 26, 27, 27, 19, 25, 33, 20, 28, 21, 18,\n",
       "       16, 16, 19, 29, 22, 24, 27, 19, 16, 21, 30, 30, 31, 25, 29, 30, 23,\n",
       "       28, 23, 20, 23, 32, 22, 22, 16, 20, 24, 16, 21, 16, 28, 25, 20, 25,\n",
       "       30, 21, 22, 24, 24, 23, 25, 33, 20, 22, 23, 31, 21, 22, 28, 24, 17,\n",
       "       32, 23, 22, 23, 18, 24, 33, 27, 34, 29, 32, 25, 22, 24, 27, 29, 18,\n",
       "       21, 21, 23, 27, 35, 26, 25, 26, 25, 37, 27, 30, 35, 32, 36, 38, 30,\n",
       "       30, 28, 28, 34, 37, 30, 26, 15, 33, 37, 20, 30, 21, 21, 25, 24, 32,\n",
       "       30, 25, 31, 24, 22, 24, 24, 30, 30, 25, 24, 18, 21, 17, 21, 28, 23,\n",
       "       36, 29, 29, 28, 36, 22, 26, 30, 24, 23, 22, 20, 31, 30, 22, 20, 28,\n",
       "       25, 26, 29, 29, 25, 33, 23, 24, 31, 30, 28, 24, 28, 29, 22, 24, 22,\n",
       "       21, 28, 31, 28, 32, 20, 27, 20, 35, 32, 28, 19, 32, 19, 24, 22, 25,\n",
       "       21, 21, 34, 15, 22, 22, 21, 13, 28, 20, 21, 14, 24, 22, 31,  8, 18,\n",
       "       26, 17, 20, 17, 23, 19, 33, 25, 31, 22, 20, 19, 18, 20, 28, 22, 24,\n",
       "       20, 22, 26, 28, 26, 23, 18, 20, 28, 26, 26, 26, 24, 29, 19, 22, 26,\n",
       "       19, 23, 15, 19, 19, 20, 20, 20, 15, 22, 20, 17, 17, 18, 21, 16, 19,\n",
       "       19, 18, 28, 29, 22, 28, 34, 14, 27, 19, 29, 26, 23, 21, 23, 20, 34,\n",
       "       33, 21, 15, 15, 14, 18, 31, 29, 14, 16, 15, 19, 17, 12, 17, 30, 28,\n",
       "       20, 19, 23, 18, 21, 17, 30, 24, 21, 28, 26, 23, 20, 21, 21, 22, 19,\n",
       "       24, 18, 29, 22, 22, 36, 26, 28, 19, 23, 22, 28, 20, 17, 22, 25, 20,\n",
       "       20, 25,  8, 21, 21, 17,  5, 18, 13, 16, 18, 11, 17, 20, 22, 20, 20,\n",
       "       18, 20, 18, 15, 15, 15, 22, 16, 17, 14, 19, 18, 16, 26, 24, 26, 37,\n",
       "       35, 36, 10, 22, 26, 26, 17, 24,  6, 20,  6, 37, 23, 19, 23,  9, 29,\n",
       "       22, 21, 25, 30, 28, 37, 32, 26, 30, 27, 19, 32, 17, 21, 13, 20, 22,\n",
       "       16, 33, 22, 16, 28, 33, 18, 36, 15, 30, 14, 15, 32, 16, 17, 22, 31,\n",
       "       24, 21, 22], dtype=int64)"
      ]
     },
     "execution_count": 28,
     "metadata": {},
     "output_type": "execute_result"
    }
   ],
   "source": [
    "getHypothesis(train_matrix, [1,1,1])"
   ]
  },
  {
   "cell_type": "code",
   "execution_count": null,
   "metadata": {},
   "outputs": [],
   "source": []
  },
  {
   "cell_type": "code",
   "execution_count": null,
   "metadata": {},
   "outputs": [],
   "source": []
  },
  {
   "cell_type": "code",
   "execution_count": null,
   "metadata": {},
   "outputs": [],
   "source": []
  },
  {
   "cell_type": "code",
   "execution_count": null,
   "metadata": {},
   "outputs": [],
   "source": []
  },
  {
   "cell_type": "code",
   "execution_count": null,
   "metadata": {},
   "outputs": [],
   "source": []
  },
  {
   "cell_type": "code",
   "execution_count": null,
   "metadata": {},
   "outputs": [],
   "source": []
  },
  {
   "cell_type": "code",
   "execution_count": null,
   "metadata": {},
   "outputs": [],
   "source": []
  },
  {
   "cell_type": "code",
   "execution_count": null,
   "metadata": {},
   "outputs": [],
   "source": []
  }
 ],
 "metadata": {
  "kernelspec": {
   "display_name": "Python 2",
   "language": "python",
   "name": "python2"
  },
  "language_info": {
   "codemirror_mode": {
    "name": "ipython",
    "version": 2
   },
   "file_extension": ".py",
   "mimetype": "text/x-python",
   "name": "python",
   "nbconvert_exporter": "python",
   "pygments_lexer": "ipython2",
   "version": "2.7.12"
  }
 },
 "nbformat": 4,
 "nbformat_minor": 2
}
